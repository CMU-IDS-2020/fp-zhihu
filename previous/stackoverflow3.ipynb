{
 "cells": [
  {
   "cell_type": "code",
   "execution_count": 1,
   "metadata": {},
   "outputs": [],
   "source": [
    "import numpy as np \n",
    "import pandas as pd \n",
    "import collections\n",
    "from tqdm import tqdm\n",
    "from scipy.sparse import csr_matrix, save_npz, load_npz, hstack\n",
    "from sklearn.metrics.pairwise import cosine_similarity\n",
    "from sklearn.preprocessing import normalize\n",
    "from matplotlib import pyplot as plt"
   ]
  },
  {
   "cell_type": "code",
   "execution_count": 2,
   "metadata": {},
   "outputs": [
    {
     "name": "stderr",
     "output_type": "stream",
     "text": [
      "/Users/kiwi/anaconda3/envs/ids/lib/python3.6/site-packages/IPython/core/interactiveshell.py:3072: DtypeWarning: Columns (7) have mixed types.Specify dtype option on import or set low_memory=False.\n",
      "  interactivity=interactivity, compiler=compiler, result=result)\n"
     ]
    }
   ],
   "source": [
    "answers = pd.read_csv('answers.csv')\n",
    "questions = pd.read_csv('questions.csv')\n",
    "tags = pd.read_csv('tags.csv')\n",
    "users = pd.read_csv('users.csv')"
   ]
  },
  {
   "cell_type": "code",
   "execution_count": 3,
   "metadata": {},
   "outputs": [
    {
     "name": "stderr",
     "output_type": "stream",
     "text": [
      "100%|██████████| 21209/21209 [00:19<00:00, 1096.59it/s]\n"
     ]
    }
   ],
   "source": [
    "def get_user_qtag_matrix():\n",
    "    user_num = len(users)\n",
    "    tags_num = len(tags)\n",
    "    \n",
    "    shape = (user_num, tags_num)\n",
    "    rows, cols = user_num, tags_num\n",
    "    data = []\n",
    "\n",
    "    for i in tqdm(range(user_num)):\n",
    "        user_id = users['id'].iloc[i]\n",
    "        questions_tags = questions[questions['owner_user_id']==user_id]['tags'].to_list()\n",
    "        tags_dict = collections.Counter()\n",
    "        for q in questions_tags:\n",
    "            q = str(q)\n",
    "            for ele in q.split('|'):\n",
    "                tags_dict[ele]+=1\n",
    "    \n",
    "        for t in tags_dict:\n",
    "            data.append([user_id, t, tags_dict[t]])\n",
    "\n",
    "            \n",
    "    df = pd.DataFrame(data, columns = ['uid', 'tag', 'value']) \n",
    "    df = df.pivot_table(index = \"uid\", columns = \"tag\", values = 'value')\n",
    "    df = df.fillna(0)\n",
    "    \n",
    "    return df\n",
    "user_qtag_matrix = get_user_qtag_matrix()"
   ]
  },
  {
   "cell_type": "code",
   "execution_count": 4,
   "metadata": {
    "scrolled": false
   },
   "outputs": [
    {
     "name": "stderr",
     "output_type": "stream",
     "text": [
      "100%|██████████| 21209/21209 [00:24<00:00, 853.17it/s] \n"
     ]
    }
   ],
   "source": [
    "def get_user_atag_matrix():\n",
    "    user_num = len(users)\n",
    "    tags_num = len(tags)\n",
    "    \n",
    "    shape = (user_num, tags_num)\n",
    "    rows, cols = user_num, tags_num\n",
    "    data = []\n",
    "\n",
    "    for i in tqdm(range(user_num)):\n",
    "        user_id = users['id'].iloc[i]\n",
    "        tags_dict = collections.Counter()\n",
    "        answered_questions = answers[answers['uid']==user_id]['qtags'].to_list()\n",
    "        \n",
    "        for a in answered_questions:\n",
    "            a = str(a)\n",
    "            for ele in a.split('|'):\n",
    "                tags_dict[ele]+=1\n",
    "        \n",
    "        for t in tags_dict:\n",
    "            data.append([user_id, t, tags_dict[t]])\n",
    "\n",
    "            \n",
    "    df = pd.DataFrame(data, columns = ['uid', 'tag', 'value']) \n",
    "    df = df.pivot_table(index = \"uid\", columns = \"tag\", values = 'value')\n",
    "    df = df.fillna(0)    \n",
    "    return df\n",
    "user_atag_matrix = get_user_atag_matrix()"
   ]
  },
  {
   "cell_type": "code",
   "execution_count": 5,
   "metadata": {},
   "outputs": [],
   "source": [
    "def save_user_tag(user_tag_matrix, output_name):\n",
    "    users_id = users.loc[:, ['id']]\n",
    "    user_tag_matrix = user_tag_matrix.drop(['uid'], axis=1)\n",
    "    matrix = users_id.merge(user_tag_matrix, left_on = \"id\", right_on = \"uid\", how = \"left\")\n",
    "    matrix = matrix.fillna(0)\n",
    "    matrix = matrix.iloc[:, 1:].to_numpy()\n",
    "    save_npz(output_name, csr_matrix(matrix))\n",
    "    \n",
    "save_user_tag(user_atag_matrix, \"user_atag.npz\")\n",
    "save_user_tag(user_qtag_matrix, \"user_qtag.npz\")"
   ]
  },
  {
   "cell_type": "code",
   "execution_count": 6,
   "metadata": {},
   "outputs": [],
   "source": [
    "user_atag_matrix = load_npz(\"user_atag.npz\")\n",
    "user_qtag_matrix = load_npz(\"user_qtag.npz\")"
   ]
  },
  {
   "cell_type": "code",
   "execution_count": 7,
   "metadata": {},
   "outputs": [],
   "source": [
    "def calc_similarity(qtag, atag):\n",
    "    features = hstack([qtag, atag])\n",
    "    return cosine_similarity(features)"
   ]
  },
  {
   "cell_type": "code",
   "execution_count": 10,
   "metadata": {},
   "outputs": [],
   "source": [
    "similarity = calc_similarity(user_qtag_matrix, user_atag_matrix)\n",
    "save_npz(\"sim.npz\", csr_matrix(similarity))"
   ]
  },
  {
   "cell_type": "code",
   "execution_count": 11,
   "metadata": {},
   "outputs": [],
   "source": [
    "sequenced_sim = similarity[np.triu_indices(len(similarity), k = 1)]"
   ]
  },
  {
   "cell_type": "code",
   "execution_count": 12,
   "metadata": {},
   "outputs": [
    {
     "data": {
      "text/plain": [
       "(array([2.14926413e+08, 5.03659300e+06, 2.35184900e+06, 1.23178400e+06,\n",
       "        6.87706000e+05, 3.52612000e+05, 1.79621000e+05, 9.05620000e+04,\n",
       "        3.44440000e+04, 8.65200000e+03]),\n",
       " array([0. , 0.1, 0.2, 0.3, 0.4, 0.5, 0.6, 0.7, 0.8, 0.9, 1. ]),\n",
       " <BarContainer object of 10 artists>)"
      ]
     },
     "execution_count": 12,
     "metadata": {},
     "output_type": "execute_result"
    },
    {
     "data": {
      "image/png": "[encoded data removed]",
      "text/plain": [
       "<Figure size 432x288 with 1 Axes>"
      ]
     },
     "metadata": {
      "needs_background": "light"
     },
     "output_type": "display_data"
    }
   ],
   "source": [
    "plt.hist(sequenced_sim, log=True)"
   ]
  },
  {
   "cell_type": "code",
   "execution_count": 13,
   "metadata": {},
   "outputs": [],
   "source": [
    "def get_similar_users(similarity, users, user_id, top=5, threshold=-1):\n",
    "    u_index = users.index[users['id'] == user_id].tolist()[0]\n",
    "    arr = similarity[u_index]\n",
    "    idx, = np.where(arr >= threshold)\n",
    "    similar_index = idx[np.argsort(arr[idx])[-(top + 1):-1][::-1]]\n",
    "    similar_ids = users.loc[list(similar_index), ['id', 'display_name']]\n",
    "    return similar_ids\n",
    "\n",
    "similar = get_similar_users(similarity, users, 3460, top=5)"
   ]
  },
  {
   "cell_type": "code",
   "execution_count": 14,
   "metadata": {},
   "outputs": [
    {
     "data": {
      "text/html": [
       "<div>\n",
       "<style scoped>\n",
       "    .dataframe tbody tr th:only-of-type {\n",
       "        vertical-align: middle;\n",
       "    }\n",
       "\n",
       "    .dataframe tbody tr th {\n",
       "        vertical-align: top;\n",
       "    }\n",
       "\n",
       "    .dataframe thead th {\n",
       "        text-align: right;\n",
       "    }\n",
       "</style>\n",
       "<table border=\"1\" class=\"dataframe\">\n",
       "  <thead>\n",
       "    <tr style=\"text-align: right;\">\n",
       "      <th></th>\n",
       "      <th>id</th>\n",
       "      <th>display_name</th>\n",
       "    </tr>\n",
       "  </thead>\n",
       "  <tbody>\n",
       "    <tr>\n",
       "      <th>13395</th>\n",
       "      <td>105460</td>\n",
       "      <td>zsalzbank</td>\n",
       "    </tr>\n",
       "    <tr>\n",
       "      <th>6065</th>\n",
       "      <td>163769</td>\n",
       "      <td>Liam</td>\n",
       "    </tr>\n",
       "    <tr>\n",
       "      <th>6211</th>\n",
       "      <td>245163</td>\n",
       "      <td>Brendan</td>\n",
       "    </tr>\n",
       "    <tr>\n",
       "      <th>5926</th>\n",
       "      <td>65763</td>\n",
       "      <td>Parrots</td>\n",
       "    </tr>\n",
       "    <tr>\n",
       "      <th>448</th>\n",
       "      <td>207287</td>\n",
       "      <td>David</td>\n",
       "    </tr>\n",
       "  </tbody>\n",
       "</table>\n",
       "</div>"
      ],
      "text/plain": [
       "           id display_name\n",
       "13395  105460    zsalzbank\n",
       "6065   163769         Liam\n",
       "6211   245163      Brendan\n",
       "5926    65763      Parrots\n",
       "448    207287        David"
      ]
     },
     "execution_count": 14,
     "metadata": {},
     "output_type": "execute_result"
    }
   ],
   "source": [
    "similar"
   ]
  },
  {
   "cell_type": "code",
   "execution_count": 15,
   "metadata": {},
   "outputs": [],
   "source": [
    "def calc_affinity(qtag, atag):\n",
    "    '''TODO: merge tags of questions and answers'''\n",
    "    return "
   ]
  },
  {
   "cell_type": "code",
   "execution_count": null,
   "metadata": {},
   "outputs": [],
   "source": []
  }
 ],
 "metadata": {
  "kernelspec": {
   "display_name": "Python 3",
   "language": "python",
   "name": "python3"
  },
  "language_info": {
   "codemirror_mode": {
    "name": "ipython",
    "version": 3
   },
   "file_extension": ".py",
   "mimetype": "text/x-python",
   "name": "python",
   "nbconvert_exporter": "python",
   "pygments_lexer": "ipython3",
   "version": "3.6.12"
  }
 },
 "nbformat": 4,
 "nbformat_minor": 4
}
